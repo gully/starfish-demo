{
 "cells": [
  {
   "cell_type": "markdown",
   "metadata": {},
   "source": [
    "How to set priors on stellar parameters.  \n",
    "gully\n",
    "\n",
    "https://github.com/iancze/Starfish/issues/32\n",
    "\n",
    "The strategy here is to define a lnprior and add it to the lnprob.  \n",
    "We have to find the right destination in the code."
   ]
  },
  {
   "cell_type": "markdown",
   "metadata": {},
   "source": [
    "# Preamble"
   ]
  },
  {
   "cell_type": "markdown",
   "metadata": {},
   "source": [
    "### Highlighting lines of code in markdown.\n",
    "The Jupyter Notebook does not have a way to highlight lines of code in markdown.  Sphinx and reST have a way of doing this, but not here.  Too bad.  So to draw attention to a specific line in large code blocks I will use three arrows:\n",
    " ```python\n",
    ">>>\n",
    "```\n",
    "Cool?  Cool."
   ]
  },
  {
   "cell_type": "markdown",
   "metadata": {},
   "source": [
    "### Nomenclature: Log- Likelihood, Prior, Probability"
   ]
  },
  {
   "cell_type": "markdown",
   "metadata": {},
   "source": [
    ">Throughout the code `lnprob` denotes the natural log of the posterior probability density distribution.  This practice is completely accurate, since the priors are (tacitly) flat.  However now I am trying to add in *explicit prior* functionality.  So I am faced with the challenge of renaming `lnprob` everywhere to `lnlike`, or just reassigning in place: `lnprob` += `lnprior`.  I will do the latter.  But note that it could be confusing whether you're looking at a `lnprob` value that includes the (new, explicit) prior or not."
   ]
  },
  {
   "cell_type": "markdown",
   "metadata": {},
   "source": [
    "# Attempt 1: Put the prior in `star.py`"
   ]
  },
  {
   "cell_type": "markdown",
   "metadata": {},
   "source": [
    "At first I thought the right place to make this change is in the script:\n",
    "### `star.py`'s  `lnprob()`\n",
    "  \n",
    "  \n",
    "\n",
    "```python\n",
    "# These functions store the variables pconns, cconns, ps.\n",
    "def lnprob(p):\n",
    "    pars = ThetaParam(grid=p[0:3], vz=p[3], vsini=p[4], logOmega=p[5])\n",
    "    #Distribute the calculation to each process\n",
    "    for ((spectrum_id, order_id), pconn) in pconns.items():\n",
    "        pconn.send((\"LNPROB\", pars))\n",
    "\n",
    "    #Collect the answer from each process\n",
    "    lnps = np.empty((len(Starfish.data[\"orders\"]),))\n",
    "    for i, pconn in enumerate(pconns.values()):\n",
    "        lnps[i] = pconn.recv()\n",
    "\n",
    ">>> result = np.sum(lnps) # + lnprior???\n",
    "    print(\"proposed:\", p, result)\n",
    "    return result\n",
    "```"
   ]
  },
  {
   "cell_type": "markdown",
   "metadata": {},
   "source": [
    "###  `star.py` is not the right place to put the prior\\*.  \n",
    "\\*I think.  I'm not 100% certain because this part of the code is *meta*.  \n",
    "\n",
    "`query_lnprob()` does not have access to the `p.grid` attribute, so it *can't* compute a prior.  \n",
    "Otherwise we'd be ln(likelihood) with ln(prob).  We can't do it this way.  \n",
    "\n",
    "\n",
    "```python\n",
    "def query_lnprob():\n",
    "        for ((spectrum_id, order_id), pconn) in pconns.items():\n",
    "            pconn.send((\"GET_LNPROB\", None))\n",
    "\n",
    "        #Collect the answer from each process\n",
    "        lnps = np.empty((len(Starfish.data[\"orders\"]),))\n",
    "        for i, pconn in enumerate(pconns.values()):\n",
    "            lnps[i] = pconn.recv()\n",
    "\n",
    ">>>     result = np.sum(lnps) # Can't put prior here.  Don't know p!\n",
    "        print(\"queried:\", result)\n",
    "        return result\n",
    "```"
   ]
  },
  {
   "cell_type": "markdown",
   "metadata": {},
   "source": [
    "# Attempt 2: Put the prior in `parallel.py`"
   ]
  },
  {
   "cell_type": "markdown",
   "metadata": {},
   "source": [
    "This is what I'm doing right now and it seems to work."
   ]
  },
  {
   "cell_type": "markdown",
   "metadata": {},
   "source": [
    "```python\n",
    "def lnprob_Theta(self, p):\n",
    "    '''\n",
    "    Update the model to the Theta parameters and then evaluate the lnprob.\n",
    "\n",
    "    Intended to be called from the master process via the command \"LNPROB\".\n",
    "    NOTE that setting the prior this way means:\n",
    "        The prior will only be effective when called from `update_Theta`\n",
    "        This could cause some unanticipated behavior...\n",
    "    '''\n",
    "    try:\n",
    "        self.update_Theta(p)\n",
    "        lnlike = self.evaluate() # Also sets self.lnprob to new value\n",
    ">>>     lnp = lnlike + self.lnprior_fn(p)  # Here is the prior!!\n",
    "        self.lnprob = lnp\n",
    "        return lnp\n",
    "    except C.ModelError:\n",
    "        self.logger.debug(\"ModelError in stellar parameters, sending back -np.inf {}\".format(p))\n",
    "        return -np.inf\n",
    "```"
   ]
  },
  {
   "cell_type": "markdown",
   "metadata": {},
   "source": [
    "This seems to work fine, but the problem is that `lnlike` is defined in 3 or 4 different places.  (double check this)\n",
    "\n",
    "1. OptimizeCheb\n",
    "2. SampleThetaCheb\n",
    "3. SampleThetaPhi\n",
    "4. SampleThetaPhiLines\n",
    "\n",
    "So the fix above is only affecting one of those.  The *better* solution would be to put the prior directly in `evaluate`, which is shared among the above 4.  But I'd have to use self.p, which I'm not certain is actually defined.  It's also hard to debug the `parallel.py`, especially since it is wrapped in an argparser.  \n",
    "\n",
    "Anyways, here is the lnprior_fn, which is very stupidly hardcoded at the moment.  \n",
    "\n",
    "```python\n",
    "    def lnprior_fn(self, p):\n",
    "        '''\n",
    "        Return the lnprior for input stellar parameters.\n",
    "\n",
    "        Intended to be called from lnprob_Theta\n",
    "        '''\n",
    "        #For now just hardcode the location and scale parameters.\n",
    "        # log-g\n",
    "        loc = 3.7\n",
    "        scl = 0.02\n",
    "        lnprior_logg = norm.logpdf(p.grid[1], loc=loc, scale=scl)\n",
    "        #Everything else will have a flat prior over the grid.\n",
    "        lnprior_allelse = 0.0\n",
    "        lnprior_out = lnprior_logg + lnprior_allelse\n",
    "        return lnprior_out\n",
    "```"
   ]
  },
  {
   "cell_type": "markdown",
   "metadata": {},
   "source": [
    "The leads me to the other big question:  \n",
    "\n",
    "How to actually get the prior parameters into the right place?  \n",
    "The `config.yaml` probably, but the details need to be worked out."
   ]
  },
  {
   "cell_type": "markdown",
   "metadata": {},
   "source": [
    "# What does this prior look like?"
   ]
  },
  {
   "cell_type": "code",
   "execution_count": 38,
   "metadata": {
    "collapsed": true
   },
   "outputs": [],
   "source": [
    "import numpy as np\n",
    "import matplotlib.pyplot as plt\n",
    "%matplotlib inline\n",
    "import seaborn as sns"
   ]
  },
  {
   "cell_type": "code",
   "execution_count": 39,
   "metadata": {
    "collapsed": true
   },
   "outputs": [],
   "source": [
    "% config InlineBackend.figure_format = 'retina'"
   ]
  },
  {
   "cell_type": "markdown",
   "metadata": {},
   "source": [
    "We want a a continuous prior:"
   ]
  },
  {
   "cell_type": "code",
   "execution_count": 51,
   "metadata": {
    "collapsed": true
   },
   "outputs": [],
   "source": [
    "from scipy import stats"
   ]
  },
  {
   "cell_type": "code",
   "execution_count": 52,
   "metadata": {
    "collapsed": false
   },
   "outputs": [],
   "source": [
    "x = np.linspace(3.5, 4.0, 100)\n",
    "loc = 3.7\n",
    "scl = 0.02\n",
    "y = stats.norm.pdf(x, loc=loc, scale=scl)\n",
    "yalt = stats.norm.logpdf(x, loc=loc, scale=scl)"
   ]
  },
  {
   "cell_type": "code",
   "execution_count": 53,
   "metadata": {
    "collapsed": false
   },
   "outputs": [
    {
     "data": {
      "text/plain": [
       "1.0"
      ]
     },
     "execution_count": 53,
     "metadata": {},
     "output_type": "execute_result"
    }
   ],
   "source": [
    "np.trapz(y, x) "
   ]
  },
  {
   "cell_type": "markdown",
   "metadata": {},
   "source": [
    "The normalization doesn't matter, but it's nice to know that it's close to normalized."
   ]
  },
  {
   "cell_type": "code",
   "execution_count": 55,
   "metadata": {
    "collapsed": false
   },
   "outputs": [
    {
     "data": {
      "text/plain": [
       "(-20, 20.0)"
      ]
     },
     "execution_count": 55,
     "metadata": {},
     "output_type": "execute_result"
    },
    {
     "data": {
      "image/png": "[encoded data removed]",
      "text/plain": [
       "<matplotlib.figure.Figure at 0x119612f60>"
      ]
     },
     "metadata": {
      "image/png": {
       "height": 275,
       "width": 395
      }
     },
     "output_type": "display_data"
    }
   ],
   "source": [
    "plt.plot(x, np.log(y))\n",
    "plt.xlabel('$\\log{g}$')\n",
    "plt.ylabel('$\\ln{p}$')\n",
    "plt.ylim(ymin=-20)"
   ]
  },
  {
   "cell_type": "code",
   "execution_count": 47,
   "metadata": {
    "collapsed": true
   },
   "outputs": [],
   "source": [
    "def lnprior_fn(self, p):\n",
    "    #For now just hardcode the location and scale parameters.\n",
    "    # log-g\n",
    "    loc = 3.7\n",
    "    scl = 0.1\n",
    "    lnprior_logg = stats.norm.logpdf(p.grid[1], loc=loc, scale=scl)\n",
    "    #Everything else will have a flat prior over the grid.\n",
    "    lnprior_allelse = 0.0\n",
    "    lnprior_out = lnprior_logg + lnprior_allelse\n",
    "    return lnprior_out"
   ]
  },
  {
   "cell_type": "markdown",
   "metadata": {},
   "source": [
    "## What do the chains look like when you use a prior?"
   ]
  },
  {
   "cell_type": "code",
   "execution_count": 23,
   "metadata": {
    "collapsed": true
   },
   "outputs": [],
   "source": [
    "import h5py"
   ]
  },
  {
   "cell_type": "code",
   "execution_count": 24,
   "metadata": {
    "collapsed": true
   },
   "outputs": [],
   "source": [
    "!cp /Users/gully/GitHub/welter/sf/m086/output/LkCa4_sm086/run03/mc.hdf5 ."
   ]
  },
  {
   "cell_type": "code",
   "execution_count": 27,
   "metadata": {
    "collapsed": true
   },
   "outputs": [],
   "source": [
    "f = h5py.File('mc.hdf5', mode='r')"
   ]
  },
  {
   "cell_type": "code",
   "execution_count": 28,
   "metadata": {
    "collapsed": false
   },
   "outputs": [
    {
     "data": {
      "text/plain": [
       "['samples']"
      ]
     },
     "execution_count": 28,
     "metadata": {},
     "output_type": "execute_result"
    }
   ],
   "source": [
    "list(f.keys())"
   ]
  },
  {
   "cell_type": "code",
   "execution_count": 29,
   "metadata": {
    "collapsed": true
   },
   "outputs": [],
   "source": [
    "d = f['samples']"
   ]
  },
  {
   "cell_type": "code",
   "execution_count": 31,
   "metadata": {
    "collapsed": false
   },
   "outputs": [
    {
     "data": {
      "text/plain": [
       "['acceptance', 'commit']"
      ]
     },
     "execution_count": 31,
     "metadata": {},
     "output_type": "execute_result"
    }
   ],
   "source": [
    "list(d.attrs)"
   ]
  },
  {
   "cell_type": "code",
   "execution_count": 32,
   "metadata": {
    "collapsed": false
   },
   "outputs": [
    {
     "data": {
      "text/plain": [
       "'0.002'"
      ]
     },
     "execution_count": 32,
     "metadata": {},
     "output_type": "execute_result"
    }
   ],
   "source": [
    "d.attrs['acceptance']"
   ]
  },
  {
   "cell_type": "markdown",
   "metadata": {},
   "source": [
    "Too small!  Here's why:  Our starting guess for log-g was 3.6.  But the prior was a narrow Gaussian at 3.7.  \n",
    "But it still should have done better than 0.002.  Whatever.\n",
    "\n",
    "I am pretty sure we should include the prior directly in the evaluate step.  \n",
    "\n",
    "Otherwise initial conditions could cause strange lnprob values.  (It's hard to tell which call to lnprob is initialized first-- with or without lnprior)."
   ]
  },
  {
   "cell_type": "code",
   "execution_count": 33,
   "metadata": {
    "collapsed": true
   },
   "outputs": [],
   "source": [
    "f.close()"
   ]
  },
  {
   "cell_type": "markdown",
   "metadata": {},
   "source": [
    "## Chains before and after (explicit) priors are set."
   ]
  },
  {
   "cell_type": "markdown",
   "metadata": {},
   "source": [
    "<p style=\"float: left; font-size: 9pt; text-align: center; width: 47%; margin-right: 1%; margin-bottom: 0.5em;\"><img src=walkers_prior_0p1_scale.png style=\"width: 100%\">Gaussian prior with 0.1 width</p><p style=\"float: left; font-size: 9pt; text-align: center; width: 47%; margin-right: 1%; margin-bottom: 0.5em;\"><img src=walkers_prior_0p02_scale.png style=\"width: 100%\">Gaussian prior with 0.02 width</p><p style=\"clear: both;\">"
   ]
  },
  {
   "cell_type": "markdown",
   "metadata": {},
   "source": [
    "The second chain from the top is the $\\log{g}$ chain.  Here we see that setting the prior scale tighter made the range of variation much less.  Not that we had different initial starting values.  The value $3.7\\pm0.1$ comes from literature values so we will use that."
   ]
  },
  {
   "cell_type": "markdown",
   "metadata": {},
   "source": [
    "## The path ahead"
   ]
  },
  {
   "cell_type": "markdown",
   "metadata": {},
   "source": [
    "Well, I have to think some more about how to best implement this system."
   ]
  },
  {
   "cell_type": "markdown",
   "metadata": {},
   "source": [
    "# The end."
   ]
  }
 ],
 "metadata": {
  "kernelspec": {
   "display_name": "Python 3",
   "language": "python",
   "name": "python3"
  },
  "language_info": {
   "codemirror_mode": {
    "name": "ipython",
    "version": 3
   },
   "file_extension": ".py",
   "mimetype": "text/x-python",
   "name": "python",
   "nbconvert_exporter": "python",
   "pygments_lexer": "ipython3",
   "version": "3.4.3"
  }
 },
 "nbformat": 4,
 "nbformat_minor": 0
}
