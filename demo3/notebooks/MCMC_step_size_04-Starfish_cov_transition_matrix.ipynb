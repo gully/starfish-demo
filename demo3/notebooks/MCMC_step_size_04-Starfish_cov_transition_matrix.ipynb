{
 "cells": [
  {
   "cell_type": "markdown",
   "metadata": {},
   "source": [
    "Looking into the `cov` matrix used to make the Metropolis Hastings jumps.  \n",
    "gully"
   ]
  },
  {
   "cell_type": "code",
   "execution_count": 2,
   "metadata": {
    "collapsed": true
   },
   "outputs": [],
   "source": [
    "import h5py"
   ]
  },
  {
   "cell_type": "code",
   "execution_count": 3,
   "metadata": {
    "collapsed": true
   },
   "outputs": [],
   "source": [
    "import numpy as np"
   ]
  },
  {
   "cell_type": "code",
   "execution_count": 4,
   "metadata": {
    "collapsed": true
   },
   "outputs": [],
   "source": [
    "import emcee"
   ]
  },
  {
   "cell_type": "markdown",
   "metadata": {},
   "source": [
    "### No covariance matrix used during sampling."
   ]
  },
  {
   "cell_type": "code",
   "execution_count": 5,
   "metadata": {
    "collapsed": false
   },
   "outputs": [
    {
     "name": "stdout",
     "output_type": "stream",
     "text": [
      "Acceptance fraction: .....73.2%\n"
     ]
    }
   ],
   "source": [
    "f1 = h5py.File('mc_noCov.hdf5', mode='r')\n",
    "\n",
    "d1 = f1['samples']\n",
    "\n",
    "print(\"Acceptance fraction: {:.>10.1%}\".format(np.float(d1.attrs['acceptance'])))\n",
    "\n",
    "#f1.close()"
   ]
  },
  {
   "cell_type": "markdown",
   "metadata": {},
   "source": [
    "On the high side..."
   ]
  },
  {
   "cell_type": "markdown",
   "metadata": {},
   "source": [
    "### With covariance matrix during sampling:"
   ]
  },
  {
   "cell_type": "code",
   "execution_count": 6,
   "metadata": {
    "collapsed": false
   },
   "outputs": [
    {
     "name": "stdout",
     "output_type": "stream",
     "text": [
      "Acceptance fraction: .....43.0%\n"
     ]
    }
   ],
   "source": [
    "f2 = h5py.File('mc_Cov.hdf5', mode='r')\n",
    "\n",
    "d2 = f2['samples']\n",
    "\n",
    "print(\"Acceptance fraction: {:.>10.1%}\".format(np.float(d2.attrs['acceptance'])))\n",
    "\n",
    "#f2.close()"
   ]
  },
  {
   "cell_type": "markdown",
   "metadata": {},
   "source": [
    "Looks better."
   ]
  },
  {
   "cell_type": "markdown",
   "metadata": {},
   "source": [
    "### How do the chains compare?"
   ]
  },
  {
   "cell_type": "markdown",
   "metadata": {},
   "source": [
    "<img src=walkers_noCov.png width=500></img> No covariance matrix used during sampling.\n",
    "<img src=walkers_Cov.png width=500></img> With covariance matrix used during sampling."
   ]
  },
  {
   "cell_type": "markdown",
   "metadata": {},
   "source": [
    "The bottom one is better because it has a lower---but not too low--acceptance ratio."
   ]
  },
  {
   "cell_type": "markdown",
   "metadata": {
    "collapsed": true
   },
   "source": [
    "### The path forward"
   ]
  },
  {
   "cell_type": "markdown",
   "metadata": {},
   "source": [
    "So in order to provide a guess for the transition probability matrix, we need to have already have run the MCMC sampling, and then performed the covariance analysis: `chain.py --files mc.hdf5 --cov`.  \n",
    "\n",
    "So we have to sample twice.  One would be a preliminary run, and the other would be a production run.  This strategy already jives with our plan for tuning the spectral line outliers- we run a `SampleThetaPhi` then we run a `SamplePhiLines`.  "
   ]
  },
  {
   "cell_type": "markdown",
   "metadata": {},
   "source": [
    "### Why we should specify a transition probability matrix"
   ]
  },
  {
   "cell_type": "markdown",
   "metadata": {},
   "source": [
    "The main advantage of specifying a transition probability (cov) matrix is that it decreases the integrated autocorrelation time, $\\tau_{int}$.  Let's check that it did that, above."
   ]
  },
  {
   "cell_type": "code",
   "execution_count": 7,
   "metadata": {
    "collapsed": false
   },
   "outputs": [
    {
     "data": {
      "text/plain": [
       "(500, 6)"
      ]
     },
     "execution_count": 7,
     "metadata": {},
     "output_type": "execute_result"
    }
   ],
   "source": [
    "d1.shape"
   ]
  },
  {
   "cell_type": "code",
   "execution_count": 16,
   "metadata": {
    "collapsed": false
   },
   "outputs": [
    {
     "data": {
      "text/plain": [
       "(500, 6)"
      ]
     },
     "execution_count": 16,
     "metadata": {},
     "output_type": "execute_result"
    }
   ],
   "source": [
    "d1.value.shape"
   ]
  },
  {
   "cell_type": "code",
   "execution_count": 24,
   "metadata": {
    "collapsed": false
   },
   "outputs": [
    {
     "name": "stdout",
     "output_type": "stream",
     "text": [
      "window   tau_int  x6      \n",
      "......10 .....9.5 ....56.9 \n",
      "......20 ....10.6 ....63.7 \n",
      "......40 .....8.9 ....53.5 \n",
      "......80 ....-0.5 ....-2.8 \n",
      ".....160 .....9.3 ....55.6 \n",
      ".....320 .....4.1 ....24.6 \n"
     ]
    }
   ],
   "source": [
    "n_disc = 50\n",
    "chain = d1.value[n_disc:, 5]\n",
    "\n",
    "print(\"{: <8} {: <8} {: <8}\".format(\"window\", \"tau_int\", \"x6\"))\n",
    "for w in [10*2**n for n in range(6)]:\n",
    "    tau_int = emcee.autocorr.integrated_time(chain, window=w)\n",
    "    print(\"{:.>8} {:.>8.1f} {:.>8.1f} \".format(w, tau_int, 6.0*tau_int))"
   ]
  },
  {
   "cell_type": "markdown",
   "metadata": {},
   "source": [
    "It's hard to estimate $\\tau_{int}$ from such a small window of data.  We need more samples.  But at any rate the acceptance fraction has gotten closer to 20-40%, so that seems like a good thing."
   ]
  },
  {
   "cell_type": "code",
   "execution_count": null,
   "metadata": {
    "collapsed": true
   },
   "outputs": [],
   "source": [
    "f1.close()\n",
    "f2.close()"
   ]
  },
  {
   "cell_type": "markdown",
   "metadata": {},
   "source": [
    "# The end."
   ]
  }
 ],
 "metadata": {
  "kernelspec": {
   "display_name": "Python 3",
   "language": "python",
   "name": "python3"
  },
  "language_info": {
   "codemirror_mode": {
    "name": "ipython",
    "version": 3
   },
   "file_extension": ".py",
   "mimetype": "text/x-python",
   "name": "python",
   "nbconvert_exporter": "python",
   "pygments_lexer": "ipython3",
   "version": "3.4.3"
  }
 },
 "nbformat": 4,
 "nbformat_minor": 0
}
