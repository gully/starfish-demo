{
 "cells": [
  {
   "cell_type": "markdown",
   "metadata": {},
   "source": [
    "Experimenting with my hack `star_so.py`"
   ]
  },
  {
   "cell_type": "code",
   "execution_count": 1,
   "metadata": {
    "collapsed": true
   },
   "outputs": [],
   "source": [
    "#!/usr/bin/env python\n",
    "\n",
    "# All of the argument parsing is done in the `parallel.py` module.\n",
    "\n",
    "import numpy as np\n",
    "import Starfish\n",
    "from Starfish.model import ThetaParam, PhiParam\n",
    "\n",
    "\n",
    "#import argparse\n",
    "#parser = argparse.ArgumentParser(prog=\"star_so.py\", description=\"Run Starfish fitting model in single order mode with many walkers.\")\n",
    "#parser.add_argument(\"--sample\", choices=[\"ThetaCheb\", \"ThetaPhi\", \"ThetaPhiLines\"], help=\"Sample the all stellar and nuisance parameters at the same time.\")\n",
    "#parser.add_argument(\"--samples\", type=int, default=5, help=\"How many samples to run?\")\n",
    "#parser.add_argument(\"--incremental_save\", type=int, default=0, help=\"How often to save incremental progress of MCMC samples.\")\n",
    "#parser.add_argument(\"--use_cov\", action=\"store_true\", help=\"Use the local optimal jump matrix if present.\")\n",
    "#args = parser.parse_args()\n",
    "\n",
    "import os\n",
    "\n",
    "import Starfish.grid_tools\n",
    "from Starfish.samplers import StateSampler\n",
    "from Starfish.spectrum import DataSpectrum, Mask, ChebyshevSpectrum\n",
    "from Starfish.emulator import Emulator\n",
    "import Starfish.constants as C\n",
    "from Starfish.covariance import get_dense_C, make_k_func, make_k_func_region\n",
    "\n",
    "from scipy.special import j1\n",
    "from scipy.interpolate import InterpolatedUnivariateSpline\n",
    "from scipy.linalg import cho_factor, cho_solve\n",
    "from numpy.linalg import slogdet\n",
    "from astropy.stats import sigma_clip\n",
    "\n",
    "import gc\n",
    "import logging\n",
    "\n",
    "from itertools import chain\n",
    "from collections import deque\n",
    "from operator import itemgetter\n",
    "import yaml\n",
    "import shutil\n",
    "import json\n",
    "\n",
    "\n",
    "\n",
    "Starfish.routdir = \"\"\n",
    "\n",
    "# list of keys from 0 to (norders - 1)\n",
    "order_keys = np.arange(1)\n",
    "DataSpectra = [DataSpectrum.open(os.path.expandvars(file), orders=Starfish.data[\"orders\"]) for file in Starfish.data[\"files\"]]\n",
    "# list of keys from 0 to (nspectra - 1) Used for indexing purposes.\n",
    "spectra_keys = np.arange(len(DataSpectra))\n",
    "\n",
    "#Instruments are provided as one per dataset\n",
    "Instruments = [eval(\"Starfish.grid_tools.\" + inst)() for inst in Starfish.data[\"instruments\"]]\n",
    "\n",
    "\n",
    "logging.basicConfig(format=\"%(asctime)s - %(levelname)s - %(name)s -  %(message)s\", filename=\"{}log.log\".format(\n",
    "    Starfish.routdir), level=logging.DEBUG, filemode=\"w\", datefmt='%m/%d/%Y %I:%M:%S %p')\n",
    "\n",
    "class Order:\n",
    "    def __init__(self, debug=False):\n",
    "        '''\n",
    "        This object contains all of the variables necessary for the partial\n",
    "        lnprob calculation for one echelle order. It is designed to first be\n",
    "        instantiated within the main processes and then forked to other\n",
    "        subprocesses. Once operating in the subprocess, the variables specific\n",
    "        to the order are loaded with an `INIT` message call, which tells which key\n",
    "        to initialize on in the `self.initialize()`.\n",
    "        '''\n",
    "        self.lnprob = -np.inf\n",
    "        self.lnprob_last = -np.inf\n",
    "\n",
    "        self.debug = debug\n",
    "\n",
    "    def initialize(self, key):\n",
    "        '''\n",
    "        Initialize to the correct chunk of data (echelle order).\n",
    "\n",
    "        :param key: (spectrum_id, order_key)\n",
    "        :param type: (int, int)\n",
    "\n",
    "        This method should only be called after all subprocess have been forked.\n",
    "        '''\n",
    "\n",
    "        self.id = key\n",
    "        spectrum_id, self.order_key = self.id\n",
    "        # Make sure these are ints\n",
    "        self.spectrum_id = int(spectrum_id)\n",
    "\n",
    "        self.instrument = Instruments[self.spectrum_id]\n",
    "        self.dataSpectrum = DataSpectra[self.spectrum_id]\n",
    "        self.wl = self.dataSpectrum.wls[self.order_key]\n",
    "        self.fl = self.dataSpectrum.fls[self.order_key]\n",
    "        self.sigma = self.dataSpectrum.sigmas[self.order_key]\n",
    "        self.ndata = len(self.wl)\n",
    "        self.mask = self.dataSpectrum.masks[self.order_key]\n",
    "        self.order = int(self.dataSpectrum.orders[self.order_key])\n",
    "\n",
    "        self.logger = logging.getLogger(\"{} {}\".format(self.__class__.__name__, self.order))\n",
    "        if self.debug:\n",
    "            self.logger.setLevel(logging.DEBUG)\n",
    "        else:\n",
    "            self.logger.setLevel(logging.INFO)\n",
    "\n",
    "        self.logger.info(\"Initializing model on Spectrum {}, order {}.\".format(self.spectrum_id, self.order_key))\n",
    "\n",
    "        self.npoly = Starfish.config[\"cheb_degree\"]\n",
    "        self.chebyshevSpectrum = ChebyshevSpectrum(self.dataSpectrum, self.order_key, npoly=self.npoly)\n",
    "\n",
    "        # If the file exists, optionally initiliaze to the chebyshev values\n",
    "        fname = Starfish.specfmt.format(self.spectrum_id, self.order) + \"phi.json\"\n",
    "        if os.path.exists(fname):\n",
    "            self.logger.debug(\"Loading stored Chebyshev parameters.\")\n",
    "            phi = PhiParam.load(fname)\n",
    "            self.chebyshevSpectrum.update(phi.cheb)\n",
    "\n",
    "        self.resid_deque = deque(maxlen=500) #Deque that stores the last residual spectra, for averaging\n",
    "        self.counter = 0\n",
    "\n",
    "        self.emulator = Emulator.open()\n",
    "        self.emulator.determine_chunk_log(self.wl)\n",
    "\n",
    "        self.pca = self.emulator.pca\n",
    "\n",
    "        self.wl_FFT = self.pca.wl\n",
    "\n",
    "        # The raw eigenspectra and mean flux components\n",
    "        self.EIGENSPECTRA = np.vstack((self.pca.flux_mean[np.newaxis,:], self.pca.flux_std[np.newaxis,:], self.pca.eigenspectra))\n",
    "\n",
    "        self.ss = np.fft.rfftfreq(self.pca.npix, d=self.emulator.dv)\n",
    "        self.ss[0] = 0.01 # junk so we don't get a divide by zero error\n",
    "\n",
    "        # Holders to store the convolved and resampled eigenspectra\n",
    "        self.eigenspectra = np.empty((self.pca.m, self.ndata))\n",
    "        self.flux_mean = np.empty((self.ndata,))\n",
    "        self.flux_std = np.empty((self.ndata,))\n",
    "\n",
    "        self.sigma_mat = self.sigma**2 * np.eye(self.ndata)\n",
    "        self.mus, self.C_GP, self.data_mat = None, None, None\n",
    "\n",
    "        self.lnprior = 0.0 # Modified and set by NuisanceSampler.lnprob\n",
    "\n",
    "        # self.nregions = 0\n",
    "        # self.exceptions = []\n",
    "\n",
    "        # Update the outdir based upon id\n",
    "        self.noutdir = Starfish.routdir + \"{}/{}/\".format(self.spectrum_id, self.order)\n",
    "\n",
    "\n",
    "    def lnprob_Theta(self, p):\n",
    "        '''\n",
    "        Update the model to the Theta parameters and then evaluate the lnprob.\n",
    "\n",
    "        Intended to be called from the master process via the command \"LNPROB\".\n",
    "        '''\n",
    "        try:\n",
    "            self.update_Theta(p)\n",
    "            lnp = self.evaluate() # Also sets self.lnprob to new value\n",
    "            return lnp\n",
    "        except C.ModelError:\n",
    "            self.logger.debug(\"ModelError in stellar parameters, sending back -np.inf {}\".format(p))\n",
    "            return -np.inf\n",
    "\n",
    "    def evaluate(self):\n",
    "        '''\n",
    "        Return the lnprob using the current version of the C_GP matrix, data matrix,\n",
    "        and other intermediate products.\n",
    "        '''\n",
    "\n",
    "        self.lnprob_last = self.lnprob\n",
    "\n",
    "        X = (self.chebyshevSpectrum.k * self.flux_std * np.eye(self.ndata)).dot(self.eigenspectra.T)\n",
    "\n",
    "        CC = X.dot(self.C_GP.dot(X.T)) + self.data_mat\n",
    "\n",
    "        try:\n",
    "            factor, flag = cho_factor(CC)\n",
    "        except np.linalg.linalg.LinAlgError:\n",
    "            print(\"Spectrum:\", self.spectrum_id, \"Order:\", self.order)\n",
    "            self.CC_debugger(CC)\n",
    "            raise\n",
    "\n",
    "        try:\n",
    "            R = self.fl - self.chebyshevSpectrum.k * self.flux_mean - X.dot(self.mus)\n",
    "\n",
    "            logdet = np.sum(2 * np.log((np.diag(factor))))\n",
    "            self.lnprob = -0.5 * (np.dot(R, cho_solve((factor, flag), R)) + logdet)\n",
    "\n",
    "            self.logger.debug(\"Evaluating lnprob={}\".format(self.lnprob))\n",
    "            return self.lnprob\n",
    "\n",
    "        # To give us some debugging information about what went wrong.\n",
    "        except np.linalg.linalg.LinAlgError:\n",
    "            print(\"Spectrum:\", self.spectrum_id, \"Order:\", self.order)\n",
    "            raise\n",
    "\n",
    "\n",
    "    def update_Theta(self, p):\n",
    "        '''\n",
    "        Update the model to the current Theta parameters.\n",
    "\n",
    "        :param p: parameters to update model to\n",
    "        :type p: model.ThetaParam\n",
    "        '''\n",
    "\n",
    "        # durty HACK to get fixed logg\n",
    "        # Simply fixes the middle value to be 4.29\n",
    "        # Check to see if it exists, as well\n",
    "        fix_logg = Starfish.config.get(\"fix_logg\", None)\n",
    "        if fix_logg is not None:\n",
    "            p.grid[1] = fix_logg\n",
    "        print(\"grid pars are\", p.grid)\n",
    "\n",
    "        self.logger.debug(\"Updating Theta parameters to {}\".format(p))\n",
    "\n",
    "        # Store the current accepted values before overwriting with new proposed values.\n",
    "        self.flux_mean_last = self.flux_mean.copy()\n",
    "        self.flux_std_last = self.flux_std.copy()\n",
    "        self.eigenspectra_last = self.eigenspectra.copy()\n",
    "        self.mus_last = self.mus\n",
    "        self.C_GP_last = self.C_GP\n",
    "\n",
    "        # Local, shifted copy of wavelengths\n",
    "        wl_FFT = self.wl_FFT * np.sqrt((C.c_kms + p.vz) / (C.c_kms - p.vz))\n",
    "\n",
    "        # If vsini is less than 0.2 km/s, we might run into issues with\n",
    "        # the grid spacing. Therefore skip the convolution step if we have\n",
    "        # values smaller than this.\n",
    "        # FFT and convolve operations\n",
    "        if p.vsini < 0.0:\n",
    "            raise C.ModelError(\"vsini must be positive\")\n",
    "        elif p.vsini < 0.2:\n",
    "            # Skip the vsini taper due to instrumental effects\n",
    "            eigenspectra_full = self.EIGENSPECTRA.copy()\n",
    "        else:\n",
    "            FF = np.fft.rfft(self.EIGENSPECTRA, axis=1)\n",
    "\n",
    "            # Determine the stellar broadening kernel\n",
    "            ub = 2. * np.pi * p.vsini * self.ss\n",
    "            sb = j1(ub) / ub - 3 * np.cos(ub) / (2 * ub ** 2) + 3. * np.sin(ub) / (2 * ub ** 3)\n",
    "            # set zeroth frequency to 1 separately (DC term)\n",
    "            sb[0] = 1.\n",
    "\n",
    "            # institute vsini taper\n",
    "            FF_tap = FF * sb\n",
    "\n",
    "            # do ifft\n",
    "            eigenspectra_full = np.fft.irfft(FF_tap, self.pca.npix, axis=1)\n",
    "\n",
    "        # Spectrum resample operations\n",
    "        if min(self.wl) < min(wl_FFT) or max(self.wl) > max(wl_FFT):\n",
    "            raise RuntimeError(\"Data wl grid ({:.2f},{:.2f}) must fit within the range of wl_FFT ({:.2f},{:.2f})\".format(min(self.wl), max(self.wl), min(wl_FFT), max(wl_FFT)))\n",
    "\n",
    "        # Take the output from the FFT operation (eigenspectra_full), and stuff them\n",
    "        # into respective data products\n",
    "        for lres, hres in zip(chain([self.flux_mean, self.flux_std], self.eigenspectra), eigenspectra_full):\n",
    "            interp = InterpolatedUnivariateSpline(wl_FFT, hres, k=5)\n",
    "            lres[:] = interp(self.wl)\n",
    "            del interp\n",
    "\n",
    "        # Helps keep memory usage low, seems like the numpy routine is slow\n",
    "        # to clear allocated memory for each iteration.\n",
    "        gc.collect()\n",
    "\n",
    "        # Adjust flux_mean and flux_std by Omega\n",
    "        Omega = 10**p.logOmega\n",
    "        self.flux_mean *= Omega\n",
    "        self.flux_std *= Omega\n",
    "\n",
    "\n",
    "\n",
    "        # Now update the parameters from the emulator\n",
    "        # If pars are outside the grid, Emulator will raise C.ModelError\n",
    "        self.emulator.params = p.grid\n",
    "        self.mus, self.C_GP = self.emulator.matrix\n",
    "\n",
    "\n",
    "\n",
    "class SampleThetaPhi(Order):\n",
    "\n",
    "    def initialize(self, key):\n",
    "        # Run through the standard initialization\n",
    "        super().initialize(key)\n",
    "\n",
    "        # for now, start with white noise\n",
    "        self.data_mat = self.sigma_mat.copy()\n",
    "        self.data_mat_last = self.data_mat.copy()\n",
    "\n",
    "        #Set up p0 and the independent sampler\n",
    "        fname = Starfish.specfmt.format(self.spectrum_id, self.order) + \"phi.json\"\n",
    "        phi = PhiParam.load(fname)\n",
    "\n",
    "        # Set the regions to None, since we don't want to include them even if they\n",
    "        # are there\n",
    "        phi.regions = None\n",
    "\n",
    "        #Loading file that was previously output\n",
    "        # Convert PhiParam object to an array\n",
    "        self.p0 = phi.toarray()\n",
    "\n",
    "        jump = Starfish.config[\"Phi_jump\"]\n",
    "        cheb_len = (self.npoly - 1) if self.chebyshevSpectrum.fix_c0 else self.npoly\n",
    "        cov_arr = np.concatenate((Starfish.config[\"cheb_jump\"]**2 * np.ones((cheb_len,)), np.array([jump[\"sigAmp\"], jump[\"logAmp\"], jump[\"l\"]])**2 ))\n",
    "        cov = np.diag(cov_arr)\n",
    "\n",
    "        def lnfunc(p):\n",
    "            # Convert p array into a PhiParam object\n",
    "            ind = self.npoly\n",
    "            if self.chebyshevSpectrum.fix_c0:\n",
    "                ind -= 1\n",
    "\n",
    "            cheb = p[0:ind]\n",
    "            sigAmp = p[ind]\n",
    "            ind+=1\n",
    "            logAmp = p[ind]\n",
    "            ind+=1\n",
    "            l = p[ind]\n",
    "\n",
    "            par = PhiParam(self.spectrum_id, self.order, self.chebyshevSpectrum.fix_c0, cheb, sigAmp, logAmp, l)\n",
    "\n",
    "            self.update_Phi(par)\n",
    "\n",
    "            # sigAmp must be positive (this is effectively a prior)\n",
    "            # See https://github.com/iancze/Starfish/issues/26\n",
    "            if not (0.0 < sigAmp): \n",
    "                self.lnprob_last = self.lnprob\n",
    "                lnp = -np.inf\n",
    "                self.logger.debug(\"sigAmp was negative, returning -np.inf\")\n",
    "                self.lnprob = lnp # Same behavior as self.evaluate()\n",
    "            else:\n",
    "                lnp = self.evaluate()\n",
    "                self.logger.debug(\"Evaluated Phi parameters: {} {}\".format(par, lnp))\n",
    "\n",
    "            return lnp\n",
    "\n",
    "\n",
    "    def update_Phi(self, p):\n",
    "        self.logger.debug(\"Updating nuisance parameters to {}\".format(p))\n",
    "\n",
    "        # Read off the Chebyshev parameters and update\n",
    "        self.chebyshevSpectrum.update(p.cheb)\n",
    "\n",
    "        # Check to make sure the global covariance parameters make sense\n",
    "        #if p.sigAmp < 0.1:\n",
    "        #   raise C.ModelError(\"sigAmp shouldn't be lower than 0.1, something is wrong.\")\n",
    "\n",
    "        max_r = 6.0 * p.l # [km/s]\n",
    "\n",
    "        # Create a partial function which returns the proper element.\n",
    "        k_func = make_k_func(p)\n",
    "\n",
    "        # Store the previous data matrix in case we want to revert later\n",
    "        self.data_mat_last = self.data_mat\n",
    "        self.data_mat = get_dense_C(self.wl, k_func=k_func, max_r=max_r) + p.sigAmp*self.sigma_mat"
   ]
  },
  {
   "cell_type": "markdown",
   "metadata": {},
   "source": [
    "# Run the program."
   ]
  },
  {
   "cell_type": "code",
   "execution_count": 2,
   "metadata": {
    "collapsed": true
   },
   "outputs": [],
   "source": [
    "model = SampleThetaPhi(debug=True)"
   ]
  },
  {
   "cell_type": "code",
   "execution_count": 3,
   "metadata": {
    "collapsed": false
   },
   "outputs": [
    {
     "name": "stderr",
     "output_type": "stream",
     "text": [
      "INFO:SampleThetaPhi 21:Initializing model on Spectrum 0, order 0.\n",
      "DEBUG:SampleThetaPhi 21:Loading stored Chebyshev parameters.\n"
     ]
    },
    {
     "name": "stdout",
     "output_type": "stream",
     "text": [
      "keeping grid as is\n"
     ]
    }
   ],
   "source": [
    "model.initialize((0,0))"
   ]
  },
  {
   "cell_type": "code",
   "execution_count": 4,
   "metadata": {
    "collapsed": true
   },
   "outputs": [],
   "source": [
    "def lnprob_all(p):\n",
    "    pars1 = ThetaParam(grid=p[0:3], vz=p[3], vsini=p[4], logOmega=p[5])\n",
    "    model.update_Theta(pars1)\n",
    "    # hard code npoly=3 (for fixc0 = True with npoly=4) !\n",
    "    pars2 = PhiParam(0, 0, True, p[6:9], p[9], p[10], p[11])\n",
    "    model.update_Phi(pars2)\n",
    "    lnp = model.evaluate()\n",
    "    return lnp"
   ]
  },
  {
   "cell_type": "code",
   "execution_count": 5,
   "metadata": {
    "collapsed": true
   },
   "outputs": [],
   "source": [
    "import emcee"
   ]
  },
  {
   "cell_type": "code",
   "execution_count": 6,
   "metadata": {
    "collapsed": false
   },
   "outputs": [],
   "source": [
    "start = Starfish.config[\"Theta\"]\n",
    "fname = Starfish.specfmt.format(model.spectrum_id, model.order) + \"phi.json\"\n",
    "phi0 = PhiParam.load(fname)"
   ]
  },
  {
   "cell_type": "code",
   "execution_count": 7,
   "metadata": {
    "collapsed": false
   },
   "outputs": [],
   "source": [
    "p0 = np.array(start[\"grid\"] + [start[\"vz\"], start[\"vsini\"], start[\"logOmega\"]] + \n",
    "             phi0.cheb.tolist() + [phi0.sigAmp, phi0.logAmp, phi0.l])"
   ]
  },
  {
   "cell_type": "code",
   "execution_count": 8,
   "metadata": {
    "collapsed": false
   },
   "outputs": [
    {
     "data": {
      "text/plain": [
       "array([  6.22800000e+03,   4.26400000e+00,  -3.42000000e-01,\n",
       "        -4.85000000e+00,   6.12800000e+00,  -1.26980000e+01,\n",
       "        -1.80000000e-02,  -1.76000000e-02,  -4.00000000e-03,\n",
       "         1.00000000e+00,  -1.36000000e+01,   2.00000000e+01])"
      ]
     },
     "execution_count": 8,
     "metadata": {},
     "output_type": "execute_result"
    }
   ],
   "source": [
    "p0"
   ]
  },
  {
   "cell_type": "code",
   "execution_count": 9,
   "metadata": {
    "collapsed": true
   },
   "outputs": [],
   "source": [
    "sampler = emcee.EnsembleSampler(32, 12, lnprob_all)"
   ]
  },
  {
   "cell_type": "code",
   "execution_count": 16,
   "metadata": {
    "collapsed": false
   },
   "outputs": [
    {
     "name": "stderr",
     "output_type": "stream",
     "text": [
      "DEBUG:SampleThetaPhi 21:Updating Theta parameters to grid:[  6.22800000e+03   4.26400000e+00  -3.42000000e-01] vz:-4.85 vsini:6.128 logOmega:-12.698 Av:0.0\n",
      "DEBUG:SampleThetaPhi 21:Updating nuisance parameters to spectrum_id:0 order:0 fix_c0:True cheb:[-0.018  -0.0176 -0.004 ] sigAmp:1.0 logAmp:-13.6 l:20.0 regions:None\n",
      "DEBUG:SampleThetaPhi 21:Evaluating lnprob=74382.87041812515\n"
     ]
    },
    {
     "name": "stdout",
     "output_type": "stream",
     "text": [
      "grid pars are [  6.22800000e+03   4.26400000e+00  -3.42000000e-01]\n"
     ]
    },
    {
     "data": {
      "text/plain": [
       "74382.870418125152"
      ]
     },
     "execution_count": 16,
     "metadata": {},
     "output_type": "execute_result"
    }
   ],
   "source": [
    "sampler.lnprobfn.f(p0)"
   ]
  },
  {
   "cell_type": "code",
   "execution_count": 15,
   "metadata": {
    "collapsed": false
   },
   "outputs": [
    {
     "data": {
      "text/plain": [
       "(12,)"
      ]
     },
     "execution_count": 15,
     "metadata": {},
     "output_type": "execute_result"
    }
   ],
   "source": [
    "p0.shape"
   ]
  },
  {
   "cell_type": "code",
   "execution_count": 32,
   "metadata": {
    "collapsed": false
   },
   "outputs": [
    {
     "data": {
      "text/plain": [
       "(12,)"
      ]
     },
     "execution_count": 32,
     "metadata": {},
     "output_type": "execute_result"
    }
   ],
   "source": [
    "p0.shape"
   ]
  },
  {
   "cell_type": "code",
   "execution_count": 20,
   "metadata": {
    "collapsed": true
   },
   "outputs": [],
   "source": [
    "p0_std = [5, 0.02, 0.02, 0.5, 0.5, -0.01, -0.005, -0.005, -0.005, 0.01, 0.001, 0.5]"
   ]
  },
  {
   "cell_type": "code",
   "execution_count": 26,
   "metadata": {
    "collapsed": true
   },
   "outputs": [],
   "source": [
    "nwalkers=36"
   ]
  },
  {
   "cell_type": "code",
   "execution_count": 27,
   "metadata": {
    "collapsed": false
   },
   "outputs": [],
   "source": [
    "p0_ball = emcee.utils.sample_ball(p0, p0_std, size=nwalkers)"
   ]
  },
  {
   "cell_type": "code",
   "execution_count": 29,
   "metadata": {
    "collapsed": false
   },
   "outputs": [
    {
     "data": {
      "text/plain": [
       "(36, 12)"
      ]
     },
     "execution_count": 29,
     "metadata": {},
     "output_type": "execute_result"
    }
   ],
   "source": [
    "p0_ball.shape"
   ]
  },
  {
   "cell_type": "markdown",
   "metadata": {},
   "source": [
    "# This will take a while:"
   ]
  },
  {
   "cell_type": "code",
   "execution_count": 30,
   "metadata": {
    "collapsed": false
   },
   "outputs": [],
   "source": [
    "#val = sampler.run_mcmc(p0_ball, 10)"
   ]
  },
  {
   "cell_type": "code",
   "execution_count": null,
   "metadata": {
    "collapsed": true
   },
   "outputs": [],
   "source": [
    "np.save('emcee_chain.npy',sampler.chain)\n",
    "\n",
    "print(\"The end.\")"
   ]
  },
  {
   "cell_type": "markdown",
   "metadata": {},
   "source": [
    "The end."
   ]
  }
 ],
 "metadata": {
  "kernelspec": {
   "display_name": "Python 3",
   "language": "python",
   "name": "python3"
  },
  "language_info": {
   "codemirror_mode": {
    "name": "ipython",
    "version": 3
   },
   "file_extension": ".py",
   "mimetype": "text/x-python",
   "name": "python",
   "nbconvert_exporter": "python",
   "pygments_lexer": "ipython3",
   "version": "3.4.4"
  }
 },
 "nbformat": 4,
 "nbformat_minor": 0
}
